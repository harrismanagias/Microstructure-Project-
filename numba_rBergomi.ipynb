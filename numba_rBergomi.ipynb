{
 "cells": [
  {
   "cell_type": "code",
   "execution_count": 497,
   "id": "7ef02ba3-e939-450f-832a-cf4ff8ca20ae",
   "metadata": {},
   "outputs": [],
   "source": [
    "import numba as nb\n",
    "\n",
    "@nb.njit\n",
    "def b_numba(k, a):\n",
    "    \"\"\"Numba version of b(k, a)\"\"\"\n",
    "    return ((k**(a+1) - (k-1)**(a+1)) / (a+1)) ** (1/a)\n",
    "\n",
    "@nb.njit\n",
    "def g_numba(x, a):\n",
    "    \"\"\"Numba version of g(x, a)\"\"\"\n",
    "    return x**a"
   ]
  },
  {
   "cell_type": "code",
   "execution_count": 499,
   "id": "a27c9a74-1e0c-48f3-a245-7a197bc59633",
   "metadata": {},
   "outputs": [],
   "source": [
    "@nb.njit(fastmath=True, parallel=True)\n",
    "def cumsum_numba(arr):\n",
    "    \"\"\"Numba-compatible cumulative sum along axis 1.\"\"\"\n",
    "    res = np.empty_like(arr)\n",
    "    for i in nb.prange(arr.shape[0]):  # Loop over paths\n",
    "        res[i, 0] = arr[i, 0]\n",
    "        for j in range(1, arr.shape[1]):\n",
    "            res[i, j] = res[i, j - 1] + arr[i, j]\n",
    "    return res"
   ]
  },
  {
   "cell_type": "code",
   "execution_count": null,
   "id": "8a73bab6-b1a3-4e25-95bd-d5d78ea9d4a1",
   "metadata": {},
   "outputs": [],
   "source": [
    "   def Y(self, dW):\n",
    "        \"\"\"\n",
    "        Constructs Volterra process from appropriately\n",
    "        correlated 2d Brownian increments.\n",
    "        \"\"\"\n",
    "        Y1 = np.zeros((self.N, 1 + self.s)) # Exact integrals\n",
    "        Y2 = np.zeros((self.N, 1 + self.s)) # Riemann sums\n",
    "\n",
    "        # Construct Y1 through exact integral\n",
    "        for i in np.arange(1, 1 + self.s, 1):\n",
    "            Y1[:,i] = dW[:,i-1,1] # Assumes kappa = 1\n",
    "\n",
    "        # Construct arrays for convolution\n",
    "        G = np.zeros(1 + self.s) # Gamma\n",
    "        for k in np.arange(2, 1 + self.s, 1):\n",
    "            G[k] = g(b(k, self.a)/self.n, self.a)\n",
    "\n",
    "        X = dW[:,:,0] # Xi\n",
    "\n",
    "        # Initialise convolution result, GX\n",
    "        GX = np.zeros((self.N, len(X[0,:]) + len(G) - 1))\n",
    "\n",
    "        # Compute convolution, FFT not used for small n\n",
    "        # Possible to compute for all paths in C-layer?\n",
    "        for i in range(self.N):\n",
    "            GX[i,:] = np.convolve(G, X[i,:])\n",
    "\n",
    "        # Extract appropriate part of convolution\n",
    "        Y2 = GX[:,:1 + self.s]\n",
    "\n",
    "        # Finally contruct and return full process\n",
    "        Y = np.sqrt(2 * self.a + 1) * (Y1 + Y2)\n",
    "        return Y"
   ]
  },
  {
   "cell_type": "code",
   "execution_count": 450,
   "id": "bfb9d7a3-9e86-4225-a71a-5115534dec3b",
   "metadata": {},
   "outputs": [],
   "source": [
    "@nb.njit(parallel=True)\n",
    "def Y_numba(dW, N, s, a, n):\n",
    "    \"\"\"Numba version of Y(dW)\"\"\"\n",
    "    Y1 = np.zeros((N, 1 + s))  # Exact integrals\n",
    "    Y2 = np.zeros((N, 1 + s))  # Riemann sums\n",
    "\n",
    "    # Construct Y1 through exact integral\n",
    "    for i in range(1, 1 + s,1):\n",
    "        Y1[:, i] = dW[:, i-1, 1]  # Assumes kappa = 1\n",
    "\n",
    "    # Construct arrays for convolution\n",
    "    G = np.zeros(1 + s)  # Gamma\n",
    "    for k in range(2, 1 + s,1):\n",
    "        G[k] = g_numba(b_numba(k, a) / n, a)  # Uses previously tested functions\n",
    "\n",
    "    X = dW[:, :, 0]  # Xi\n",
    "\n",
    "    # Initialise convolution result\n",
    "    GX = np.zeros((N, len(X[0, :]) + len(G) - 1))\n",
    "\n",
    "    # Compute convolution\n",
    "    for i in nb.prange(N):\n",
    "        GX[i, :] = np.convolve(G, X[i, :])\n",
    "\n",
    "    # Extract appropriate part of convolution\n",
    "    Y2 = GX[:, :1 + s]\n",
    "\n",
    "    # Finally construct and return full process\n",
    "    Y = np.sqrt(2 * a + 1) * (Y1 + Y2)\n",
    "    return Y"
   ]
  },
  {
   "cell_type": "code",
   "execution_count": 452,
   "id": "a0e3d364-250b-457a-9d86-d1cae092c177",
   "metadata": {},
   "outputs": [],
   "source": [
    "@nb.njit(fastmath=True, parallel=True)\n",
    "def dB_numba(dW1, dW2, rho):\n",
    "    \"\"\"Numba-optimized correlated Brownian motion process.\"\"\"\n",
    "    return rho * dW1[:, :, 0] + np.sqrt(1 - rho**2) * dW2"
   ]
  },
  {
   "cell_type": "code",
   "execution_count": 454,
   "id": "28e2dc3c-e60c-4fff-8ecb-de82a7cdd19d",
   "metadata": {},
   "outputs": [],
   "source": [
    "@nb.njit(fastmath=True, parallel=True)\n",
    "def V_numba(Y, v0, eta, H, tau, s):\n",
    "    t_grid = np.linspace(0, tau, s+1).reshape(1, -1)\n",
    "    exponent = eta * Y - 0.5 * eta**2 * t_grid**(2 * H)\n",
    "    V = v0 * np.exp(exponent)  # ✅ Correct, using `np.exp`\n",
    "    return V"
   ]
  },
  {
   "cell_type": "code",
   "execution_count": 456,
   "id": "12b9b28a-6fdc-4930-9e6e-6e32d8c9a349",
   "metadata": {},
   "outputs": [],
   "source": [
    "@nb.njit(fastmath=True, parallel=True)\n",
    "def S_numba(V, dB, S0, dt):\n",
    "    \"\"\"Numba-optimized price process S.\"\"\"\n",
    "    increments = np.sqrt(V[:, :-1]) * dB - 0.5 * V[:, :-1] * dt\n",
    "    integral = cumsum_numba(increments)  # Use custom cumsum function\n",
    "    S = np.ones_like(V) * S0  # Ensure initial S0 is set properly\n",
    "    S[:, 1:] = S0 * np.exp(integral)\n",
    "    return S"
   ]
  },
  {
   "cell_type": "code",
   "execution_count": 458,
   "id": "9100bcab-1e9a-4389-850a-af0eee3d08ff",
   "metadata": {},
   "outputs": [
    {
     "name": "stdout",
     "output_type": "stream",
     "text": [
      "First 5 simulated S values (Numba): [1.00000000e+00 4.74381049e+00 4.35047103e+00 2.01758918e-01\n",
      " 3.01714442e-03]\n"
     ]
    }
   ],
   "source": [
    "import numpy as np \n",
    "# Define parameters\n",
    "N, s, a, n = 1000, 100, -0.4, 100\n",
    "tau = 1.0\n",
    "H = a+.5\n",
    "eta = 1.\n",
    "v0 = 1.\n",
    "S0 = 1.0\n",
    "dt = 1.0 / n\n",
    "\n",
    "# Generate random dW samples\n",
    "np.random.seed(42)\n",
    "dW_samples = np.random.randn(N, s, 2)\n",
    "\n",
    "# Compute Y, V, and S using Numba\n",
    "Y_numba_result = Y_numba(dW_samples, N, s, a, n)\n",
    "V_numba_result = V_numba(Y_numba_result, v0, eta, H, tau, s)\n",
    "dB_samples = np.random.randn(N, s)  # Generate correlated Brownian motion\n",
    "S_numba_result = S_numba(V_numba_result, dB_samples, S0, dt)\n",
    "\n",
    "# Print first 5 values of S\n",
    "print(\"First 5 simulated S values (Numba):\", S_numba_result[0, :5])"
   ]
  },
  {
   "cell_type": "code",
   "execution_count": 460,
   "id": "1f9b51d4-aac0-47da-b253-804739a33e66",
   "metadata": {},
   "outputs": [],
   "source": [
    "dB_python_result = rB.dB(dW_samples, dW2_samples, rho)"
   ]
  },
  {
   "cell_type": "code",
   "execution_count": 462,
   "id": "93d545c5-8e58-4709-85d9-1c36fea9feb5",
   "metadata": {},
   "outputs": [],
   "source": [
    "dB_numba_result = dB_numba(dW_samples, dW2_samples, rho)"
   ]
  },
  {
   "cell_type": "code",
   "execution_count": 464,
   "id": "54cab2f4-54dc-464c-84db-699005f5812c",
   "metadata": {},
   "outputs": [],
   "source": [
    "V_numba_result = V_numba(Y_numba_result, v0, eta, H, tau, s)\n"
   ]
  },
  {
   "cell_type": "code",
   "execution_count": 466,
   "id": "0c17143b-5192-4546-b8d3-ed47bee738e0",
   "metadata": {},
   "outputs": [
    {
     "name": "stdout",
     "output_type": "stream",
     "text": [
      "\n",
      "🔍 V_numba / V_python first 10 values: [1. 1. 1. 1. 1. 1. 1. 1. 1. 1.]\n"
     ]
    }
   ],
   "source": [
    "print(\"\\n🔍 V_numba / V_python first 10 values:\", (V_numba_result / V_python)[0, :10])"
   ]
  },
  {
   "cell_type": "code",
   "execution_count": 414,
   "id": "1be1413f-beca-4a1c-b124-97e4201ebcea",
   "metadata": {},
   "outputs": [],
   "source": [
    "@nb.njit(fastmath=True, parallel=True)\n",
    "def rBergomi_pricer_numba(H, eta, rho, v0, tau, K, S0, MC_samples=40000, n=365):\n",
    "    \"\"\"Numba-optimized European Call price under rBergomi dynamics.\"\"\"\n",
    "\n",
    "    # Derived parameters\n",
    "    a = H - 0.5\n",
    "    dt = tau / n\n",
    "    s = n  # Number of time steps\n",
    "\n",
    "    # Generate Brownian motions\n",
    "    dW1 = np.random.randn(MC_samples, s)\n",
    "    dW2 = np.random.randn(MC_samples, s)\n",
    "\n",
    "    # Construct correlated Brownian motion dB\n",
    "    dB = rho * dW1 + np.sqrt(1 - rho**2) * dW2\n",
    "\n",
    "    # Ensure correct reshaping\n",
    "    dW1_reshaped = dW1.reshape(MC_samples, s, 1)  \n",
    "    dB_reshaped = dB.reshape(MC_samples, s, 1)  \n",
    "\n",
    "    # Compute fractional volatility process Y\n",
    "    Y = Y_numba(dW1_reshaped, MC_samples, s, a, n)\n",
    "\n",
    "    # Compute variance process V\n",
    "    V = V_numba(Y, v0, eta, H, tau, s)  # ✅ This now returns an array\n",
    "\n",
    "    # ✅ Ensure `V` has the correct shape before passing to `S_numba`\n",
    "    V_trimmed = V[:, :s]  # Now this slicing works\n",
    "\n",
    "    # Compute stock price process S\n",
    "    S = S_numba(V_trimmed, dB_reshaped, S0, dt)\n",
    "\n",
    "    # Extract terminal stock prices\n",
    "    ST = S[:, -1]\n",
    "\n",
    "    # Compute European Call price\n",
    "    payoffs = np.maximum(ST - K, 0)\n",
    "    price = np.mean(payoffs)\n",
    "\n",
    "    return price"
   ]
  },
  {
   "cell_type": "code",
   "execution_count": 416,
   "id": "b439739f-5d9e-4b1b-8613-9ed175b58637",
   "metadata": {},
   "outputs": [],
   "source": [
    "@nb.njit(fastmath=True, parallel=True)\n",
    "def rBergomi_pricer_numba(H, eta, rho, v0, tau, K, S0, MC_samples=40000, n=365):\n",
    "    \"\"\"Numba-optimized European Call price under rBergomi dynamics.\"\"\"\n",
    "\n",
    "    # Derived parameters\n",
    "    a = H - 0.5\n",
    "    dt = tau / n\n",
    "    s = n  # Number of time steps\n",
    "\n",
    "    # Generate Brownian motions\n",
    "    dW1 = np.random.randn(MC_samples, s)\n",
    "    dW2 = np.random.randn(MC_samples, s)\n",
    "\n",
    "    # Construct correlated Brownian motion dB\n",
    "    dB = rho * dW1 + np.sqrt(1 - rho**2) * dW2\n",
    "\n",
    "    # Ensure correct reshaping\n",
    "    dW1_reshaped = dW1.reshape(MC_samples, s, 1)  \n",
    "    dB_reshaped = np.ascontiguousarray(dB[:, :s]).copy()  # ✅ Now fully contiguous\n",
    "\n",
    "    # Compute fractional volatility process Y\n",
    "    Y = Y_numba(dW1_reshaped, MC_samples, s, a, n)\n",
    "\n",
    "    # Compute variance process V\n",
    "    V = V_numba(Y, v0, eta, H, tau, s)\n",
    "\n",
    "    # ✅ Ensure `V` has correct shape before passing to `S_numba`\n",
    "    V_trimmed = V[:, :s]  # Now this slicing works\n",
    "\n",
    "    # ✅ Debugging prints to verify shape match\n",
    "    print(\"✅ V_trimmed shape:\", V_trimmed.shape)\n",
    "    print(\"✅ dB_reshaped shape:\", dB_reshaped.shape)\n",
    "\n",
    "    # Compute stock price process S\n",
    "    S = S_numba(V_trimmed, dB_reshaped, S0, dt)\n",
    "\n",
    "    # Extract terminal stock prices\n",
    "    ST = S[:, -1]\n",
    "\n",
    "    # Compute European Call price\n",
    "    payoffs = np.maximum(ST - K, 0)\n",
    "    price = np.mean(payoffs)\n",
    "\n",
    "    return price"
   ]
  },
  {
   "cell_type": "code",
   "execution_count": null,
   "id": "453bd760-659c-4d64-aeeb-96b3f9bd3b2f",
   "metadata": {},
   "outputs": [],
   "source": []
  },
  {
   "cell_type": "code",
   "execution_count": 419,
   "id": "b14b259f-951b-4554-9396-2842cd1aef59",
   "metadata": {},
   "outputs": [],
   "source": [
    "import data as da\n"
   ]
  },
  {
   "cell_type": "code",
   "execution_count": 421,
   "id": "3c1e0b80-6c3c-49aa-ac7f-4b5cae685ae5",
   "metadata": {},
   "outputs": [],
   "source": [
    "@nb.njit(fastmath=True, parallel=True)\n",
    "def rBergomi_pricer_numba(H, eta, rho, v0, tau, K, S0, MC_samples):\n",
    "    \"\"\"Numba-optimized rBergomi European call option pricer.\"\"\"\n",
    "    \n",
    "    # ✅ Initialize model\n",
    "    N, s = MC_samples, int(365 * tau)  # Fix s = n * tau\n",
    "    a = H - 0.5\n",
    "    dt = tau / s\n",
    "    \n",
    "    # ✅ Generate Brownian motions\n",
    "    np.random.seed(42)  # Ensures same randomness every time\n",
    "    dW1 = np.random.randn(N, s)\n",
    "    dW2 = np.random.randn(N, s)\n",
    "    \n",
    "    # ✅ Compute correlated Brownian motion\n",
    "    dB = rho * dW1 + np.sqrt(1 - rho**2) * dW2\n",
    "    \n",
    "    # ✅ Debugging prints before computing Y\n",
    "    print(\"\\n🔍 First 10 values of dW1 (Numba):\", dW1[0, :10])\n",
    "    print(\"🔍 Min/Max/Mean dW1 (Numba):\", np.min(dW1), np.max(dW1), np.mean(dW1))\n",
    "    \n",
    "    print(\"\\n🔍 First 10 values of dW2 (Numba):\", dW2[0, :10])\n",
    "    print(\"🔍 Min/Max/Mean dW2 (Numba):\", np.min(dW2), np.max(dW2), np.mean(dW2))\n",
    "    \n",
    "    print(\"\\n🔍 First 10 values of dB (Numba):\", dB[0, :10])\n",
    "    print(\"🔍 Min/Max/Mean dB (Numba):\", np.min(dB), np.max(dB), np.mean(dB))\n",
    "\n",
    "    # ✅ Compute Y (fractional volatility process)\n",
    "    Y = Y_numba(dW1, N, s, a, n)\n",
    "    \n",
    "    # ✅ Compute variance process V\n",
    "    V = V_numba(Y, v0, eta, H, tau, s)\n",
    "    \n",
    "    # ✅ Compute stock prices S\n",
    "    S = S_numba(V, dB, S0, dt)\n",
    "    ST = S[:, -1]  # Extract terminal prices\n",
    "\n",
    "    # ✅ Debugging prints for ST\n",
    "    print(\"\\n🔍 First 10 values of ST (Numba):\", ST[:10])\n",
    "    print(\"🔍 Min/Max/Mean ST (Numba):\", np.min(ST), np.max(ST), np.mean(ST))\n",
    "\n",
    "    # ✅ Compute option price\n",
    "    price = np.mean(np.maximum(ST - K, 0))\n",
    "\n",
    "    # ✅ Debugging price before checks\n",
    "    print(\"\\n🔍 Price before numerical stability checks (Numba):\", price)\n",
    "\n",
    "    # ✅ Check for numerical stability\n",
    "    if price <= 0 or price + K < S0:\n",
    "        print(\"🚨 NumStabProblem: Price {} < intrinsic.\".format(price))\n",
    "        return np.nan  # Returning NaN for debugging\n",
    "    \n",
    "    return price"
   ]
  },
  {
   "cell_type": "code",
   "execution_count": 431,
   "id": "e86575f0-dfbf-41d8-8088-d34a6969093b",
   "metadata": {},
   "outputs": [],
   "source": [
    "def rBergomi_pricer(H, eta, rho, v0, tau, K, S0, MC_samples=40000):\n",
    "    \"\"\"Python implementation of rBergomi Monte Carlo pricer.\"\"\"\n",
    "    try:\n",
    "        rB = rBergomi(n=365, N=MC_samples, T=tau, a=H - 0.5)\n",
    "        dW1, dW2 = rB.dW1(), rB.dW2()\n",
    "        Y = rB.Y(dW1)\n",
    "        dB = rB.dB(dW1, dW2, rho)\n",
    "        xi = v0\n",
    "        V = rB.V(Y, xi, eta)\n",
    "        S = rB.S(V, dB)\n",
    "        ST = S[:, -1]\n",
    "        price = np.mean(np.maximum(ST - K, 0))\n",
    "        \n",
    "        # Debugging prints for first 10 values\n",
    "        print(\"\\n🔴 Python Debug:\")\n",
    "        print(\"🔍 First 10 values of V (Python):\", V[0, :10])\n",
    "        print(\"🔍 First 10 values of S (Python):\", S[0, :10])\n",
    "        print(\"🔍 First 10 terminal prices ST (Python):\", ST[:10])\n",
    "        print(\"🔍 Price before checking:\", price)\n",
    "        \n",
    "    except Exception as e:\n",
    "        print(\"Error in Python pricer:\", e)\n",
    "        return np.nan, np.nan  # Handle error case\n",
    "\n",
    "    return price, np.nan  # Ignore implied volatility for now\n"
   ]
  },
  {
   "cell_type": "code",
   "execution_count": 495,
   "id": "45199ada-1365-403b-b219-e07581c5c0c9",
   "metadata": {},
   "outputs": [
    {
     "ename": "TypingError",
     "evalue": "Failed in nopython mode pipeline (step: nopython frontend)\n\u001b[1m\u001b[1m\u001b[1mnon-precise type pyobject\u001b[0m\n\u001b[0m\u001b[1mDuring: typing of argument at /var/folders/17/z52ptwgn5qx8rp5fr81jwqs00000gn/T/ipykernel_70825/1703965354.py (1)\u001b[0m\n\u001b[1m\nFile \"../../../../var/folders/17/z52ptwgn5qx8rp5fr81jwqs00000gn/T/ipykernel_70825/1703965354.py\", line 1:\u001b[0m\n\u001b[1m<source missing, REPL/exec in use?>\u001b[0m\n\n\u001b[0m\u001b[1mDuring: Pass nopython_type_inference\u001b[0m \n\nThis error may have been caused by the following argument(s):\n- argument 0: \u001b[1mCannot determine Numba type of <class 'method'>\u001b[0m\n- argument 1: \u001b[1mCannot determine Numba type of <class 'method'>\u001b[0m \n\nThis error may have been caused by the following argument(s):\n- argument 0: \u001b[1mCannot determine Numba type of <class 'method'>\u001b[0m\n- argument 1: \u001b[1mCannot determine Numba type of <class 'method'>\u001b[0m \n\nThis error may have been caused by the following argument(s):\n- argument 0: \u001b[1mCannot determine Numba type of <class 'method'>\u001b[0m\n- argument 1: \u001b[1mCannot determine Numba type of <class 'method'>\u001b[0m \n\nThis error may have been caused by the following argument(s):\n- argument 0: \u001b[1mCannot determine Numba type of <class 'method'>\u001b[0m\n- argument 1: \u001b[1mCannot determine Numba type of <class 'method'>\u001b[0m\n",
     "output_type": "error",
     "traceback": [
      "\u001b[0;31m---------------------------------------------------------------------------\u001b[0m",
      "\u001b[0;31mTypingError\u001b[0m                               Traceback (most recent call last)",
      "Cell \u001b[0;32mIn[495], line 1\u001b[0m\n\u001b[0;32m----> 1\u001b[0m dB\u001b[38;5;241m=\u001b[39mdB_numba(dW1,dW2,rho)\n",
      "File \u001b[0;32m/opt/anaconda3/lib/python3.12/site-packages/numba/core/dispatcher.py:424\u001b[0m, in \u001b[0;36m_DispatcherBase._compile_for_args\u001b[0;34m(self, *args, **kws)\u001b[0m\n\u001b[1;32m    420\u001b[0m         msg \u001b[38;5;241m=\u001b[39m (\u001b[38;5;124mf\u001b[39m\u001b[38;5;124m\"\u001b[39m\u001b[38;5;132;01m{\u001b[39;00m\u001b[38;5;28mstr\u001b[39m(e)\u001b[38;5;241m.\u001b[39mrstrip()\u001b[38;5;132;01m}\u001b[39;00m\u001b[38;5;124m \u001b[39m\u001b[38;5;130;01m\\n\u001b[39;00m\u001b[38;5;130;01m\\n\u001b[39;00m\u001b[38;5;124mThis error may have been caused \u001b[39m\u001b[38;5;124m\"\u001b[39m\n\u001b[1;32m    421\u001b[0m                \u001b[38;5;124mf\u001b[39m\u001b[38;5;124m\"\u001b[39m\u001b[38;5;124mby the following argument(s):\u001b[39m\u001b[38;5;130;01m\\n\u001b[39;00m\u001b[38;5;132;01m{\u001b[39;00margs_str\u001b[38;5;132;01m}\u001b[39;00m\u001b[38;5;130;01m\\n\u001b[39;00m\u001b[38;5;124m\"\u001b[39m)\n\u001b[1;32m    422\u001b[0m         e\u001b[38;5;241m.\u001b[39mpatch_message(msg)\n\u001b[0;32m--> 424\u001b[0m     error_rewrite(e, \u001b[38;5;124m'\u001b[39m\u001b[38;5;124mtyping\u001b[39m\u001b[38;5;124m'\u001b[39m)\n\u001b[1;32m    425\u001b[0m \u001b[38;5;28;01mexcept\u001b[39;00m errors\u001b[38;5;241m.\u001b[39mUnsupportedError \u001b[38;5;28;01mas\u001b[39;00m e:\n\u001b[1;32m    426\u001b[0m     \u001b[38;5;66;03m# Something unsupported is present in the user code, add help info\u001b[39;00m\n\u001b[1;32m    427\u001b[0m     error_rewrite(e, \u001b[38;5;124m'\u001b[39m\u001b[38;5;124munsupported_error\u001b[39m\u001b[38;5;124m'\u001b[39m)\n",
      "File \u001b[0;32m/opt/anaconda3/lib/python3.12/site-packages/numba/core/dispatcher.py:365\u001b[0m, in \u001b[0;36m_DispatcherBase._compile_for_args.<locals>.error_rewrite\u001b[0;34m(e, issue_type)\u001b[0m\n\u001b[1;32m    363\u001b[0m     \u001b[38;5;28;01mraise\u001b[39;00m e\n\u001b[1;32m    364\u001b[0m \u001b[38;5;28;01melse\u001b[39;00m:\n\u001b[0;32m--> 365\u001b[0m     \u001b[38;5;28;01mraise\u001b[39;00m e\u001b[38;5;241m.\u001b[39mwith_traceback(\u001b[38;5;28;01mNone\u001b[39;00m)\n",
      "\u001b[0;31mTypingError\u001b[0m: Failed in nopython mode pipeline (step: nopython frontend)\n\u001b[1m\u001b[1m\u001b[1mnon-precise type pyobject\u001b[0m\n\u001b[0m\u001b[1mDuring: typing of argument at /var/folders/17/z52ptwgn5qx8rp5fr81jwqs00000gn/T/ipykernel_70825/1703965354.py (1)\u001b[0m\n\u001b[1m\nFile \"../../../../var/folders/17/z52ptwgn5qx8rp5fr81jwqs00000gn/T/ipykernel_70825/1703965354.py\", line 1:\u001b[0m\n\u001b[1m<source missing, REPL/exec in use?>\u001b[0m\n\n\u001b[0m\u001b[1mDuring: Pass nopython_type_inference\u001b[0m \n\nThis error may have been caused by the following argument(s):\n- argument 0: \u001b[1mCannot determine Numba type of <class 'method'>\u001b[0m\n- argument 1: \u001b[1mCannot determine Numba type of <class 'method'>\u001b[0m \n\nThis error may have been caused by the following argument(s):\n- argument 0: \u001b[1mCannot determine Numba type of <class 'method'>\u001b[0m\n- argument 1: \u001b[1mCannot determine Numba type of <class 'method'>\u001b[0m \n\nThis error may have been caused by the following argument(s):\n- argument 0: \u001b[1mCannot determine Numba type of <class 'method'>\u001b[0m\n- argument 1: \u001b[1mCannot determine Numba type of <class 'method'>\u001b[0m \n\nThis error may have been caused by the following argument(s):\n- argument 0: \u001b[1mCannot determine Numba type of <class 'method'>\u001b[0m\n- argument 1: \u001b[1mCannot determine Numba type of <class 'method'>\u001b[0m\n"
     ]
    }
   ],
   "source": [
    "dB=dB_numba(dW1,dW2,rho)"
   ]
  },
  {
   "cell_type": "code",
   "execution_count": 493,
   "id": "facd873b-4b39-473e-a307-3bb641fb2981",
   "metadata": {},
   "outputs": [
    {
     "ename": "TypingError",
     "evalue": "Failed in nopython mode pipeline (step: nopython frontend)\n\u001b[1m\u001b[1m\u001b[1mnon-precise type pyobject\u001b[0m\n\u001b[0m\u001b[1mDuring: typing of argument at /var/folders/17/z52ptwgn5qx8rp5fr81jwqs00000gn/T/ipykernel_70825/1703965354.py (1)\u001b[0m\n\u001b[1m\nFile \"../../../../var/folders/17/z52ptwgn5qx8rp5fr81jwqs00000gn/T/ipykernel_70825/1703965354.py\", line 1:\u001b[0m\n\u001b[1m<source missing, REPL/exec in use?>\u001b[0m\n\n\u001b[0m\u001b[1mDuring: Pass nopython_type_inference\u001b[0m \n\nThis error may have been caused by the following argument(s):\n- argument 0: \u001b[1mCannot determine Numba type of <class 'method'>\u001b[0m\n- argument 1: \u001b[1mCannot determine Numba type of <class 'method'>\u001b[0m \n\nThis error may have been caused by the following argument(s):\n- argument 0: \u001b[1mCannot determine Numba type of <class 'method'>\u001b[0m\n- argument 1: \u001b[1mCannot determine Numba type of <class 'method'>\u001b[0m \n\nThis error may have been caused by the following argument(s):\n- argument 0: \u001b[1mCannot determine Numba type of <class 'method'>\u001b[0m\n- argument 1: \u001b[1mCannot determine Numba type of <class 'method'>\u001b[0m\n",
     "output_type": "error",
     "traceback": [
      "\u001b[0;31m---------------------------------------------------------------------------\u001b[0m",
      "\u001b[0;31mTypingError\u001b[0m                               Traceback (most recent call last)",
      "Cell \u001b[0;32mIn[493], line 4\u001b[0m\n\u001b[1;32m      2\u001b[0m dW1\u001b[38;5;241m=\u001b[39mrB\u001b[38;5;241m.\u001b[39mdW1\n\u001b[1;32m      3\u001b[0m dW2\u001b[38;5;241m=\u001b[39mrB\u001b[38;5;241m.\u001b[39mdW2\n\u001b[0;32m----> 4\u001b[0m dB\u001b[38;5;241m=\u001b[39mdB_numba(dW1,dW2,rho)\n\u001b[1;32m      5\u001b[0m \u001b[38;5;28mprint\u001b[39m(\u001b[38;5;124m\"\u001b[39m\u001b[38;5;124mdW1 shape:\u001b[39m\u001b[38;5;124m\"\u001b[39m, dB\u001b[38;5;241m.\u001b[39mshape)  \u001b[38;5;66;03m# Should be (MC_samples, s)\u001b[39;00m\n\u001b[1;32m      6\u001b[0m Y \u001b[38;5;241m=\u001b[39m Y_numba(dB, MC_samples, \u001b[38;5;241m100\u001b[39m, H \u001b[38;5;241m-\u001b[39m \u001b[38;5;241m0.5\u001b[39m, \u001b[38;5;241m100\u001b[39m)\n",
      "File \u001b[0;32m/opt/anaconda3/lib/python3.12/site-packages/numba/core/dispatcher.py:424\u001b[0m, in \u001b[0;36m_DispatcherBase._compile_for_args\u001b[0;34m(self, *args, **kws)\u001b[0m\n\u001b[1;32m    420\u001b[0m         msg \u001b[38;5;241m=\u001b[39m (\u001b[38;5;124mf\u001b[39m\u001b[38;5;124m\"\u001b[39m\u001b[38;5;132;01m{\u001b[39;00m\u001b[38;5;28mstr\u001b[39m(e)\u001b[38;5;241m.\u001b[39mrstrip()\u001b[38;5;132;01m}\u001b[39;00m\u001b[38;5;124m \u001b[39m\u001b[38;5;130;01m\\n\u001b[39;00m\u001b[38;5;130;01m\\n\u001b[39;00m\u001b[38;5;124mThis error may have been caused \u001b[39m\u001b[38;5;124m\"\u001b[39m\n\u001b[1;32m    421\u001b[0m                \u001b[38;5;124mf\u001b[39m\u001b[38;5;124m\"\u001b[39m\u001b[38;5;124mby the following argument(s):\u001b[39m\u001b[38;5;130;01m\\n\u001b[39;00m\u001b[38;5;132;01m{\u001b[39;00margs_str\u001b[38;5;132;01m}\u001b[39;00m\u001b[38;5;130;01m\\n\u001b[39;00m\u001b[38;5;124m\"\u001b[39m)\n\u001b[1;32m    422\u001b[0m         e\u001b[38;5;241m.\u001b[39mpatch_message(msg)\n\u001b[0;32m--> 424\u001b[0m     error_rewrite(e, \u001b[38;5;124m'\u001b[39m\u001b[38;5;124mtyping\u001b[39m\u001b[38;5;124m'\u001b[39m)\n\u001b[1;32m    425\u001b[0m \u001b[38;5;28;01mexcept\u001b[39;00m errors\u001b[38;5;241m.\u001b[39mUnsupportedError \u001b[38;5;28;01mas\u001b[39;00m e:\n\u001b[1;32m    426\u001b[0m     \u001b[38;5;66;03m# Something unsupported is present in the user code, add help info\u001b[39;00m\n\u001b[1;32m    427\u001b[0m     error_rewrite(e, \u001b[38;5;124m'\u001b[39m\u001b[38;5;124munsupported_error\u001b[39m\u001b[38;5;124m'\u001b[39m)\n",
      "File \u001b[0;32m/opt/anaconda3/lib/python3.12/site-packages/numba/core/dispatcher.py:365\u001b[0m, in \u001b[0;36m_DispatcherBase._compile_for_args.<locals>.error_rewrite\u001b[0;34m(e, issue_type)\u001b[0m\n\u001b[1;32m    363\u001b[0m     \u001b[38;5;28;01mraise\u001b[39;00m e\n\u001b[1;32m    364\u001b[0m \u001b[38;5;28;01melse\u001b[39;00m:\n\u001b[0;32m--> 365\u001b[0m     \u001b[38;5;28;01mraise\u001b[39;00m e\u001b[38;5;241m.\u001b[39mwith_traceback(\u001b[38;5;28;01mNone\u001b[39;00m)\n",
      "\u001b[0;31mTypingError\u001b[0m: Failed in nopython mode pipeline (step: nopython frontend)\n\u001b[1m\u001b[1m\u001b[1mnon-precise type pyobject\u001b[0m\n\u001b[0m\u001b[1mDuring: typing of argument at /var/folders/17/z52ptwgn5qx8rp5fr81jwqs00000gn/T/ipykernel_70825/1703965354.py (1)\u001b[0m\n\u001b[1m\nFile \"../../../../var/folders/17/z52ptwgn5qx8rp5fr81jwqs00000gn/T/ipykernel_70825/1703965354.py\", line 1:\u001b[0m\n\u001b[1m<source missing, REPL/exec in use?>\u001b[0m\n\n\u001b[0m\u001b[1mDuring: Pass nopython_type_inference\u001b[0m \n\nThis error may have been caused by the following argument(s):\n- argument 0: \u001b[1mCannot determine Numba type of <class 'method'>\u001b[0m\n- argument 1: \u001b[1mCannot determine Numba type of <class 'method'>\u001b[0m \n\nThis error may have been caused by the following argument(s):\n- argument 0: \u001b[1mCannot determine Numba type of <class 'method'>\u001b[0m\n- argument 1: \u001b[1mCannot determine Numba type of <class 'method'>\u001b[0m \n\nThis error may have been caused by the following argument(s):\n- argument 0: \u001b[1mCannot determine Numba type of <class 'method'>\u001b[0m\n- argument 1: \u001b[1mCannot determine Numba type of <class 'method'>\u001b[0m\n"
     ]
    }
   ],
   "source": [
    "rho=-.7\n",
    "dW1=rB.dW1\n",
    "dW2=rB.dW2\n",
    "dB=dB_numba(dW1,dW2,rho)\n",
    "print(\"dW1 shape:\", dB.shape)  # Should be (MC_samples, s)\n",
    "Y = Y_numba(dB, MC_samples, 100, H - 0.5, 100)"
   ]
  },
  {
   "cell_type": "code",
   "execution_count": 427,
   "id": "bfabfcdd-e524-44b9-8b93-89bc25eefa52",
   "metadata": {},
   "outputs": [],
   "source": [
    "def rBergomi_pricer_numba(H, eta, rho, v0, tau, K, S0, MC_samples=40000):\n",
    "    \"\"\"Computes European Call price under rBergomi dynamics using Monte Carlo.\"\"\"\n",
    "    \n",
    "    # Initialize parameters\n",
    "    s = int(365 * tau)  # Ensure s matches the discretization\n",
    "    dW1 = np.random.randn(MC_samples, s)\n",
    "    dW2 = np.random.randn(MC_samples, s)\n",
    "    \n",
    "    # Compute paths using Numba functions\n",
    "    Y = Y_numba(dW1, MC_samples, s, H - 0.5, s)  # Compute volatility process\n",
    "    V = V_numba(Y, v0, eta, H, tau, s)  # Compute variance process\n",
    "    dB = dB_numba(dW1, dW2, rho)  # Compute correlated Brownian motion\n",
    "    S = S_numba(V[:, :-1], dB, S0, tau / s)  # Compute price paths\n",
    "    \n",
    "    # Extract final prices and compute payoffs\n",
    "    ST = S[:, -1]\n",
    "    payoffs = np.maximum(ST - K, 0)\n",
    "    price = np.mean(payoffs)\n",
    "    \n",
    "    return price"
   ]
  },
  {
   "cell_type": "code",
   "execution_count": 429,
   "id": "d1e6e4f4-334d-4b1a-8480-b77d3c999d84",
   "metadata": {},
   "outputs": [
    {
     "ename": "TypingError",
     "evalue": "Failed in nopython mode pipeline (step: nopython frontend)\n\u001b[1m\u001b[1m\u001b[1mNo implementation of function Function(<built-in function getitem>) found for signature:\n \n >>> getitem(array(float64, 2d, C), Tuple(slice<a:b>, int64, Literal[int](1)))\n \nThere are 22 candidate implementations:\n\u001b[1m      - Of which 20 did not match due to:\n      Overload of function 'getitem': File: <numerous>: Line N/A.\n        With argument(s): '(array(float64, 2d, C), Tuple(slice<a:b>, int64, int64))':\u001b[0m\n\u001b[1m       No match.\u001b[0m\n\u001b[1m      - Of which 1 did not match due to:\n      Overload in function 'GetItemBuffer.generic': File: numba/core/typing/arraydecl.py: Line 211.\n        With argument(s): '(array(float64, 2d, C), Tuple(slice<a:b>, int64, int64))':\u001b[0m\n\u001b[1m       Rejected as the implementation raised a specific error:\n         NumbaTypeError: \u001b[1mcannot index array(float64, 2d, C) with 3 indices: Tuple(slice<a:b>, int64, int64)\u001b[0m\u001b[0m\n  raised from /opt/anaconda3/lib/python3.12/site-packages/numba/core/typing/arraydecl.py:133\n\u001b[1m      - Of which 1 did not match due to:\n      Overload in function 'GetItemBuffer.generic': File: numba/core/typing/arraydecl.py: Line 211.\n        With argument(s): '(array(float64, 2d, C), Tuple(slice<a:b>, int64, Literal[int](1)))':\u001b[0m\n\u001b[1m       Rejected as the implementation raised a specific error:\n         NumbaTypeError: \u001b[1mcannot index array(float64, 2d, C) with 3 indices: Tuple(slice<a:b>, int64, Literal[int](1))\u001b[0m\u001b[0m\n  raised from /opt/anaconda3/lib/python3.12/site-packages/numba/core/typing/arraydecl.py:133\n\u001b[0m\n\u001b[0m\u001b[1mDuring: typing of intrinsic-call at /var/folders/17/z52ptwgn5qx8rp5fr81jwqs00000gn/T/ipykernel_70825/820969963.py (9)\u001b[0m\n\u001b[1m\nFile \"../../../../var/folders/17/z52ptwgn5qx8rp5fr81jwqs00000gn/T/ipykernel_70825/820969963.py\", line 9:\u001b[0m\n\u001b[1m<source missing, REPL/exec in use?>\u001b[0m\n\n\u001b[0m\u001b[1mDuring: Pass nopython_type_inference\u001b[0m",
     "output_type": "error",
     "traceback": [
      "\u001b[0;31m---------------------------------------------------------------------------\u001b[0m",
      "\u001b[0;31mTypingError\u001b[0m                               Traceback (most recent call last)",
      "Cell \u001b[0;32mIn[429], line 3\u001b[0m\n\u001b[1;32m      1\u001b[0m \u001b[38;5;66;03m# Compute prices\u001b[39;00m\n\u001b[1;32m      2\u001b[0m price_python, _ \u001b[38;5;241m=\u001b[39m da\u001b[38;5;241m.\u001b[39mrBergomi_pricer(H, eta, rho, v0, tau, K, S0, MC_samples)  \u001b[38;5;66;03m# ✅ Fix tuple issue\u001b[39;00m\n\u001b[0;32m----> 3\u001b[0m price_numba \u001b[38;5;241m=\u001b[39m rBergomi_pricer_numba(H, eta, rho, v0, tau, K, S0, MC_samples)\n\u001b[1;32m      5\u001b[0m \u001b[38;5;66;03m# Debugging extreme values\u001b[39;00m\n\u001b[1;32m      6\u001b[0m \u001b[38;5;28mprint\u001b[39m(\u001b[38;5;124m\"\u001b[39m\u001b[38;5;124m🔍 First 10 values of V (Numba):\u001b[39m\u001b[38;5;124m\"\u001b[39m, V_trimmed[\u001b[38;5;241m0\u001b[39m, :\u001b[38;5;241m10\u001b[39m])\n",
      "Cell \u001b[0;32mIn[427], line 10\u001b[0m, in \u001b[0;36mrBergomi_pricer_numba\u001b[0;34m(H, eta, rho, v0, tau, K, S0, MC_samples)\u001b[0m\n\u001b[1;32m      7\u001b[0m dW2 \u001b[38;5;241m=\u001b[39m np\u001b[38;5;241m.\u001b[39mrandom\u001b[38;5;241m.\u001b[39mrandn(MC_samples, s)\n\u001b[1;32m      9\u001b[0m \u001b[38;5;66;03m# Compute paths using Numba functions\u001b[39;00m\n\u001b[0;32m---> 10\u001b[0m Y \u001b[38;5;241m=\u001b[39m Y_numba(dW1, MC_samples, s, H \u001b[38;5;241m-\u001b[39m \u001b[38;5;241m0.5\u001b[39m, s)  \u001b[38;5;66;03m# Compute volatility process\u001b[39;00m\n\u001b[1;32m     11\u001b[0m V \u001b[38;5;241m=\u001b[39m V_numba(Y, v0, eta, H, tau, s)  \u001b[38;5;66;03m# Compute variance process\u001b[39;00m\n\u001b[1;32m     12\u001b[0m dB \u001b[38;5;241m=\u001b[39m dB_numba(dW1, dW2, rho)  \u001b[38;5;66;03m# Compute correlated Brownian motion\u001b[39;00m\n",
      "File \u001b[0;32m/opt/anaconda3/lib/python3.12/site-packages/numba/core/dispatcher.py:424\u001b[0m, in \u001b[0;36m_DispatcherBase._compile_for_args\u001b[0;34m(self, *args, **kws)\u001b[0m\n\u001b[1;32m    420\u001b[0m         msg \u001b[38;5;241m=\u001b[39m (\u001b[38;5;124mf\u001b[39m\u001b[38;5;124m\"\u001b[39m\u001b[38;5;132;01m{\u001b[39;00m\u001b[38;5;28mstr\u001b[39m(e)\u001b[38;5;241m.\u001b[39mrstrip()\u001b[38;5;132;01m}\u001b[39;00m\u001b[38;5;124m \u001b[39m\u001b[38;5;130;01m\\n\u001b[39;00m\u001b[38;5;130;01m\\n\u001b[39;00m\u001b[38;5;124mThis error may have been caused \u001b[39m\u001b[38;5;124m\"\u001b[39m\n\u001b[1;32m    421\u001b[0m                \u001b[38;5;124mf\u001b[39m\u001b[38;5;124m\"\u001b[39m\u001b[38;5;124mby the following argument(s):\u001b[39m\u001b[38;5;130;01m\\n\u001b[39;00m\u001b[38;5;132;01m{\u001b[39;00margs_str\u001b[38;5;132;01m}\u001b[39;00m\u001b[38;5;130;01m\\n\u001b[39;00m\u001b[38;5;124m\"\u001b[39m)\n\u001b[1;32m    422\u001b[0m         e\u001b[38;5;241m.\u001b[39mpatch_message(msg)\n\u001b[0;32m--> 424\u001b[0m     error_rewrite(e, \u001b[38;5;124m'\u001b[39m\u001b[38;5;124mtyping\u001b[39m\u001b[38;5;124m'\u001b[39m)\n\u001b[1;32m    425\u001b[0m \u001b[38;5;28;01mexcept\u001b[39;00m errors\u001b[38;5;241m.\u001b[39mUnsupportedError \u001b[38;5;28;01mas\u001b[39;00m e:\n\u001b[1;32m    426\u001b[0m     \u001b[38;5;66;03m# Something unsupported is present in the user code, add help info\u001b[39;00m\n\u001b[1;32m    427\u001b[0m     error_rewrite(e, \u001b[38;5;124m'\u001b[39m\u001b[38;5;124munsupported_error\u001b[39m\u001b[38;5;124m'\u001b[39m)\n",
      "File \u001b[0;32m/opt/anaconda3/lib/python3.12/site-packages/numba/core/dispatcher.py:365\u001b[0m, in \u001b[0;36m_DispatcherBase._compile_for_args.<locals>.error_rewrite\u001b[0;34m(e, issue_type)\u001b[0m\n\u001b[1;32m    363\u001b[0m     \u001b[38;5;28;01mraise\u001b[39;00m e\n\u001b[1;32m    364\u001b[0m \u001b[38;5;28;01melse\u001b[39;00m:\n\u001b[0;32m--> 365\u001b[0m     \u001b[38;5;28;01mraise\u001b[39;00m e\u001b[38;5;241m.\u001b[39mwith_traceback(\u001b[38;5;28;01mNone\u001b[39;00m)\n",
      "\u001b[0;31mTypingError\u001b[0m: Failed in nopython mode pipeline (step: nopython frontend)\n\u001b[1m\u001b[1m\u001b[1mNo implementation of function Function(<built-in function getitem>) found for signature:\n \n >>> getitem(array(float64, 2d, C), Tuple(slice<a:b>, int64, Literal[int](1)))\n \nThere are 22 candidate implementations:\n\u001b[1m      - Of which 20 did not match due to:\n      Overload of function 'getitem': File: <numerous>: Line N/A.\n        With argument(s): '(array(float64, 2d, C), Tuple(slice<a:b>, int64, int64))':\u001b[0m\n\u001b[1m       No match.\u001b[0m\n\u001b[1m      - Of which 1 did not match due to:\n      Overload in function 'GetItemBuffer.generic': File: numba/core/typing/arraydecl.py: Line 211.\n        With argument(s): '(array(float64, 2d, C), Tuple(slice<a:b>, int64, int64))':\u001b[0m\n\u001b[1m       Rejected as the implementation raised a specific error:\n         NumbaTypeError: \u001b[1mcannot index array(float64, 2d, C) with 3 indices: Tuple(slice<a:b>, int64, int64)\u001b[0m\u001b[0m\n  raised from /opt/anaconda3/lib/python3.12/site-packages/numba/core/typing/arraydecl.py:133\n\u001b[1m      - Of which 1 did not match due to:\n      Overload in function 'GetItemBuffer.generic': File: numba/core/typing/arraydecl.py: Line 211.\n        With argument(s): '(array(float64, 2d, C), Tuple(slice<a:b>, int64, Literal[int](1)))':\u001b[0m\n\u001b[1m       Rejected as the implementation raised a specific error:\n         NumbaTypeError: \u001b[1mcannot index array(float64, 2d, C) with 3 indices: Tuple(slice<a:b>, int64, Literal[int](1))\u001b[0m\u001b[0m\n  raised from /opt/anaconda3/lib/python3.12/site-packages/numba/core/typing/arraydecl.py:133\n\u001b[0m\n\u001b[0m\u001b[1mDuring: typing of intrinsic-call at /var/folders/17/z52ptwgn5qx8rp5fr81jwqs00000gn/T/ipykernel_70825/820969963.py (9)\u001b[0m\n\u001b[1m\nFile \"../../../../var/folders/17/z52ptwgn5qx8rp5fr81jwqs00000gn/T/ipykernel_70825/820969963.py\", line 9:\u001b[0m\n\u001b[1m<source missing, REPL/exec in use?>\u001b[0m\n\n\u001b[0m\u001b[1mDuring: Pass nopython_type_inference\u001b[0m"
     ]
    }
   ],
   "source": [
    "# Compute prices\n",
    "price_python, _ = da.rBergomi_pricer(H, eta, rho, v0, tau, K, S0, MC_samples)  # ✅ Fix tuple issue\n",
    "price_numba = rBergomi_pricer_numba(H, eta, rho, v0, tau, K, S0, MC_samples)\n",
    "\n",
    "# Debugging extreme values\n",
    "print(\"🔍 First 10 values of V (Numba):\", V_trimmed[0, :10])\n",
    "print(\"🔍 First 10 values of S (Numba):\", S[0, :10])\n",
    "\n",
    "# Print results\n",
    "print(\"\\n🔴 Python rBergomi Pricer:\", price_python)\n",
    "print(\"🟢 Numba rBergomi Pricer:\", price_numba)\n",
    "\n",
    "# Compare differences\n",
    "abs_diff = np.abs(price_python - price_numba)\n",
    "rel_diff = abs_diff / (price_python + 1e-12)  # Avoid division by zero\n",
    "\n",
    "print(\"\\n📉 Absolute Difference:\", abs_diff)\n",
    "print(\"📊 Relative Difference:\", rel_diff)"
   ]
  },
  {
   "cell_type": "code",
   "execution_count": null,
   "id": "c76faece-bda4-4176-9b09-c615e20f7894",
   "metadata": {},
   "outputs": [],
   "source": []
  },
  {
   "cell_type": "code",
   "execution_count": null,
   "id": "62bcb86a-0cf5-4ce5-a185-2669783c7d16",
   "metadata": {},
   "outputs": [],
   "source": []
  }
 ],
 "metadata": {
  "kernelspec": {
   "display_name": "Python [conda env:base] *",
   "language": "python",
   "name": "conda-base-py"
  },
  "language_info": {
   "codemirror_mode": {
    "name": "ipython",
    "version": 3
   },
   "file_extension": ".py",
   "mimetype": "text/x-python",
   "name": "python",
   "nbconvert_exporter": "python",
   "pygments_lexer": "ipython3",
   "version": "3.12.4"
  }
 },
 "nbformat": 4,
 "nbformat_minor": 5
}
